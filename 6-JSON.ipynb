{
 "cells": [
  {
   "cell_type": "markdown",
   "metadata": {},
   "source": [
    "# Pandas JSON\n",
    "JSON（**J**ava**S**cript **O**bject **N**otation，JavaScript 对象表示法），是存储和交换文本信息的语法，类似 XML。\n",
    "\n",
    "JSON 比 XML 更小、更快，更易解析，更多 JSON 内容可以参考 [JSON 教程](https://www.runoob.com/json/json-tutorial.html)。\n",
    "\n",
    "Pandas 可以很方便的处理 JSON 数据，本文以 [sites.json](https://static.runoob.com/download/sites.json) 为例，内容如下：\n",
    "\n",
    "```json\n",
    "[\n",
    "   {\n",
    "   \"id\": \"A001\",\n",
    "   \"name\": \"菜鸟教程\",\n",
    "   \"url\": \"www.runoob.com\",\n",
    "   \"likes\": 61\n",
    "   },\n",
    "   {\n",
    "   \"id\": \"A002\",\n",
    "   \"name\": \"Google\",\n",
    "   \"url\": \"www.google.com\",\n",
    "   \"likes\": 124\n",
    "   },\n",
    "   {\n",
    "   \"id\": \"A003\",\n",
    "   \"name\": \"淘宝\",\n",
    "   \"url\": \"www.taobao.com\",\n",
    "   \"likes\": 45\n",
    "   }\n",
    "]\n",
    "```"
   ]
  },
  {
   "cell_type": "code",
   "execution_count": 1,
   "metadata": {},
   "outputs": [
    {
     "name": "stdout",
     "output_type": "stream",
     "text": [
      "     id    name             url  likes\n",
      "0  A001    菜鸟教程  www.runoob.com     61\n",
      "1  A002  Google  www.google.com    124\n",
      "2  A003      淘宝  www.taobao.com     45\n"
     ]
    }
   ],
   "source": [
    "import pandas as pd\n",
    "\n",
    "df = pd.read_json('sites.json')\n",
    "\n",
    "print(df.to_string())"
   ]
  },
  {
   "cell_type": "markdown",
   "metadata": {},
   "source": [
    "`to_string()` 用于返回 DataFrame 类型的数据，我们也可以直接处理 JSON 字符串。"
   ]
  },
  {
   "cell_type": "code",
   "execution_count": 3,
   "metadata": {},
   "outputs": [
    {
     "name": "stdout",
     "output_type": "stream",
     "text": [
      "     id    name             url  likes\n",
      "0  A001    菜鸟教程  www.runoob.com     61\n",
      "1  A002  Google  www.google.com    124\n",
      "2  A003      淘宝  www.taobao.com     45\n"
     ]
    }
   ],
   "source": [
    "import pandas as pd\n",
    "\n",
    "data =[\n",
    "    {\n",
    "    \"id\": \"A001\",\n",
    "    \"name\": \"菜鸟教程\",\n",
    "    \"url\": \"www.runoob.com\",\n",
    "    \"likes\": 61\n",
    "    },\n",
    "    {\n",
    "    \"id\": \"A002\",\n",
    "    \"name\": \"Google\",\n",
    "    \"url\": \"www.google.com\",\n",
    "    \"likes\": 124\n",
    "    },\n",
    "    {\n",
    "    \"id\": \"A003\",\n",
    "    \"name\": \"淘宝\",\n",
    "    \"url\": \"www.taobao.com\",\n",
    "    \"likes\": 45\n",
    "    }\n",
    " ]\n",
    "\n",
    "df = pd.DataFrame(data)\n",
    "\n",
    "print(df)"
   ]
  },
  {
   "cell_type": "markdown",
   "metadata": {},
   "source": [
    "JSON 对象与 Python 字典具有相同的格式，所以我们可以直接将 Python 字典转化为 DataFrame 数据："
   ]
  },
  {
   "cell_type": "code",
   "execution_count": 4,
   "metadata": {},
   "outputs": [
    {
     "name": "stdout",
     "output_type": "stream",
     "text": [
      "      col1 col2\n",
      "row1     1    x\n",
      "row2     2    y\n",
      "row3     3    z\n"
     ]
    }
   ],
   "source": [
    "import pandas as pd\n",
    "\n",
    "\n",
    "# 字典格式的 JSON                                                                                              \n",
    "s = {\n",
    " \"col1\":{\"row1\":1,\"row2\":2,\"row3\":3},\n",
    " \"col2\":{\"row1\":\"x\",\"row2\":\"y\",\"row3\":\"z\"}\n",
    "}\n",
    "\n",
    "# 读取 JSON 转为 DataFrame                                                                                           \n",
    "df = pd.DataFrame(s)\n",
    "print(df)"
   ]
  },
  {
   "cell_type": "markdown",
   "metadata": {},
   "source": [
    "从 URL 中读取 JSON 数据："
   ]
  },
  {
   "cell_type": "code",
   "execution_count": 5,
   "metadata": {},
   "outputs": [
    {
     "name": "stdout",
     "output_type": "stream",
     "text": [
      "     id    name             url  likes\n",
      "0  A001    菜鸟教程  www.runoob.com     61\n",
      "1  A002  Google  www.google.com    124\n",
      "2  A003      淘宝  www.taobao.com     45\n"
     ]
    }
   ],
   "source": [
    "import pandas as pd\n",
    "\n",
    "URL = 'https://static.runoob.com/download/sites.json'\n",
    "df = pd.read_json(URL)\n",
    "print(df)"
   ]
  },
  {
   "cell_type": "markdown",
   "metadata": {},
   "source": [
    "## 内嵌的 JSON 数据\n",
    "假设有一组内嵌的 JSON 数据文件 nested_list.json ：\n",
    "\n",
    "```json\n",
    "{\n",
    "    \"school_name\": \"ABC primary school\",\n",
    "    \"class\": \"Year 1\",\n",
    "    \"students\": [\n",
    "    {\n",
    "        \"id\": \"A001\",\n",
    "        \"name\": \"Tom\",\n",
    "        \"math\": 60,\n",
    "        \"physics\": 66,\n",
    "        \"chemistry\": 61\n",
    "    },\n",
    "    {\n",
    "        \"id\": \"A002\",\n",
    "        \"name\": \"James\",\n",
    "        \"math\": 89,\n",
    "        \"physics\": 76,\n",
    "        \"chemistry\": 51\n",
    "    },\n",
    "    {\n",
    "        \"id\": \"A003\",\n",
    "        \"name\": \"Jenny\",\n",
    "        \"math\": 79,\n",
    "        \"physics\": 90,\n",
    "        \"chemistry\": 78\n",
    "    }]\n",
    "}\n",
    "```"
   ]
  },
  {
   "cell_type": "code",
   "execution_count": 6,
   "metadata": {},
   "outputs": [
    {
     "name": "stdout",
     "output_type": "stream",
     "text": [
      "          school_name   class  \\\n",
      "0  ABC primary school  Year 1   \n",
      "1  ABC primary school  Year 1   \n",
      "2  ABC primary school  Year 1   \n",
      "\n",
      "                                            students  \n",
      "0  {'id': 'A001', 'name': 'Tom', 'math': 60, 'phy...  \n",
      "1  {'id': 'A002', 'name': 'James', 'math': 89, 'p...  \n",
      "2  {'id': 'A003', 'name': 'Jenny', 'math': 79, 'p...  \n"
     ]
    }
   ],
   "source": [
    "import pandas as pd\n",
    "\n",
    "df = pd.read_json('nested_list.json')\n",
    "\n",
    "print(df)"
   ]
  },
  {
   "cell_type": "markdown",
   "metadata": {},
   "source": [
    "这时我们就需要使用到 `json_normalize()` 方法将内嵌的数据完整的解析出来："
   ]
  },
  {
   "cell_type": "code",
   "execution_count": 8,
   "metadata": {},
   "outputs": [
    {
     "name": "stdout",
     "output_type": "stream",
     "text": [
      "     id   name  math  physics  chemistry\n",
      "0  A001    Tom    60       66         61\n",
      "1  A002  James    89       76         51\n",
      "2  A003  Jenny    79       90         78\n"
     ]
    }
   ],
   "source": [
    "import pandas as pd\n",
    "import json\n",
    "\n",
    "# 使用 Python JSON 模块载入数据\n",
    "with open('nested_list.json','r') as f:\n",
    "    data = json.loads(f.read())\n",
    "\n",
    "# 展平数据\n",
    "df_nested_list = pd.json_normalize(data, record_path =['students'])\n",
    "print(df_nested_list)"
   ]
  },
  {
   "cell_type": "markdown",
   "metadata": {},
   "source": [
    "`data = json.loads(f.read())` 使用 Python JSON 模块载入数据。\n",
    "\n",
    "`json_normalize()` 使用了参数 *`record_path` 并设置为 `['students']` 用于展开内嵌的 JSON 数据 students。\n",
    "\n",
    "显示结果还没有包含 `school_name` 和 `class` 元素，如果需要展示出来可以使用 `meta` 参数来显示这些元数据："
   ]
  },
  {
   "cell_type": "code",
   "execution_count": 11,
   "metadata": {},
   "outputs": [
    {
     "name": "stdout",
     "output_type": "stream",
     "text": [
      "     id   name  math  physics  chemistry         school_name   class\n",
      "0  A001    Tom    60       66         61  ABC primary school  Year 1\n",
      "1  A002  James    89       76         51  ABC primary school  Year 1\n",
      "2  A003  Jenny    79       90         78  ABC primary school  Year 1\n"
     ]
    }
   ],
   "source": [
    "import pandas as pd\n",
    "import json\n",
    "\n",
    "# 使用 Python JSON 模块载入数据\n",
    "with open('nested_list.json','r') as f:\n",
    "    data = json.loads(f.read())\n",
    "\n",
    "# 展平数据\n",
    "df_nested_list = pd.json_normalize(\n",
    "    data, \n",
    "    meta=['school_name', 'class'],\n",
    "    record_path =['students'], \n",
    ")\n",
    "print(df_nested_list)"
   ]
  },
  {
   "cell_type": "markdown",
   "metadata": {},
   "source": [
    "接下来，让我们尝试读取更复杂的 JSON 数据，该数据嵌套了列表和字典，数据文件 **nested_mix.json** 如下：\n",
    "\n",
    "```json\n",
    "{\n",
    "    \"school_name\": \"local primary school\",\n",
    "    \"class\": \"Year 1\",\n",
    "    \"info\": {\n",
    "        \"president\": \"John Kasich\",\n",
    "        \"address\": \"ABC road, London, UK\",\n",
    "        \"contacts\": {\n",
    "            \"email\": \"admin@e.com\",\n",
    "            \"tel\": \"123456789\"\n",
    "        }\n",
    "    },\n",
    "    \"students\": [\n",
    "        {\n",
    "            \"id\": \"A001\",\n",
    "            \"name\": \"Tom\",\n",
    "            \"math\": 60,\n",
    "            \"physics\": 66,\n",
    "            \"chemistry\": 61\n",
    "        },\n",
    "        {\n",
    "            \"id\": \"A002\",\n",
    "            \"name\": \"James\",\n",
    "            \"math\": 89,\n",
    "            \"physics\": 76,\n",
    "            \"chemistry\": 51\n",
    "        },\n",
    "        {\n",
    "            \"id\": \"A003\",\n",
    "            \"name\": \"Jenny\",\n",
    "            \"math\": 79,\n",
    "            \"physics\": 90,\n",
    "            \"chemistry\": 78\n",
    "        }\n",
    "    ]\n",
    "}\n",
    "```\n",
    "\n",
    "nested_mix.json 文件转换为 DataFrame："
   ]
  },
  {
   "cell_type": "code",
   "execution_count": 13,
   "metadata": {},
   "outputs": [
    {
     "name": "stdout",
     "output_type": "stream",
     "text": [
      "     id   name  math  physics  chemistry   class info.president  \\\n",
      "0  A001    Tom    60       66         61  Year 1    John Kasich   \n",
      "1  A002  James    89       76         51  Year 1    John Kasich   \n",
      "2  A003  Jenny    79       90         78  Year 1    John Kasich   \n",
      "\n",
      "  info.contacts.tel  \n",
      "0         123456789  \n",
      "1         123456789  \n",
      "2         123456789  \n"
     ]
    }
   ],
   "source": [
    "import pandas as pd\n",
    "import json\n",
    "\n",
    "# 使用 Python JSON 模块载入数据\n",
    "with open('nested_mix.json','r') as f:\n",
    "    data = json.loads(f.read())\n",
    "\n",
    "df = pd.json_normalize(\n",
    "    data, \n",
    "    record_path =['students'], \n",
    "    meta=[\n",
    "        'class',\n",
    "        ['info', 'president'], \n",
    "        ['info', 'contacts', 'tel']\n",
    "    ]\n",
    ")\n",
    "\n",
    "print(df)"
   ]
  },
  {
   "cell_type": "markdown",
   "metadata": {},
   "source": [
    "## 读取内嵌数据中的一组数据\n",
    "以下是实例文件 nested_deep.json，我们只读取内嵌中的 `math` 字段\n",
    "\n",
    "```json\n",
    "{\n",
    "    \"school_name\": \"local primary school\",\n",
    "    \"class\": \"Year 1\",\n",
    "    \"students\": [\n",
    "        {\n",
    "            \"id\": \"A001\",\n",
    "            \"name\": \"Tom\",\n",
    "            \"grade\": {\n",
    "                \"math\": 60,\n",
    "                \"physics\": 66,\n",
    "                \"chemistry\": 61\n",
    "            }\n",
    "        },\n",
    "        {\n",
    "            \"id\": \"A002\",\n",
    "            \"name\": \"James\",\n",
    "            \"grade\": {\n",
    "                \"math\": 89,\n",
    "                \"physics\": 76,\n",
    "                \"chemistry\": 51\n",
    "            }\n",
    "        },\n",
    "        {\n",
    "            \"id\": \"A003\",\n",
    "            \"name\": \"Jenny\",\n",
    "            \"grade\": {\n",
    "                \"math\": 79,\n",
    "                \"physics\": 90,\n",
    "                \"chemistry\": 78\n",
    "            }\n",
    "        }\n",
    "    ]\n",
    "}\n",
    "```\n",
    "\n",
    "这里我们需要使用到 `glom` 模块来处理数据套嵌，`glom` 模块允许我们使用 . 来访问内嵌对象的属性。\n",
    "\n",
    "第一次使用我们需要安装 `glom`：\n",
    "\n",
    "```\n",
    "pip3 install glom\n",
    "```"
   ]
  },
  {
   "cell_type": "code",
   "execution_count": 14,
   "metadata": {},
   "outputs": [
    {
     "name": "stdout",
     "output_type": "stream",
     "text": [
      "0    60\n",
      "1    89\n",
      "2    79\n",
      "Name: students, dtype: int64\n"
     ]
    }
   ],
   "source": [
    "import pandas as pd\n",
    "from glom import glom\n",
    "\n",
    "df = pd.read_json('nested_deep.json')\n",
    "\n",
    "data = df['students'].apply(lambda row: glom(row, 'grade.math'))\n",
    "print(data)"
   ]
  }
 ],
 "metadata": {
  "kernelspec": {
   "display_name": "python-pandas",
   "language": "python",
   "name": "python3"
  },
  "language_info": {
   "codemirror_mode": {
    "name": "ipython",
    "version": 3
   },
   "file_extension": ".py",
   "mimetype": "text/x-python",
   "name": "python",
   "nbconvert_exporter": "python",
   "pygments_lexer": "ipython3",
   "version": "3.11.4"
  },
  "orig_nbformat": 4
 },
 "nbformat": 4,
 "nbformat_minor": 2
}
