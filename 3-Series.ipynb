{
 "cells": [
  {
   "cell_type": "markdown",
   "metadata": {},
   "source": [
    "# Pandas 数据结构 - Series\n",
    "\n",
    "Pandas Series 类似表格中的一个列（column），类似于一维数组，可以保存任何数据类型。\n",
    "\n",
    "Series 由索引（index）和列组成，函数如下：\n",
    "\n",
    "```python\n",
    "pandas.Series( data, index, dtype, name, copy)\n",
    "```\n",
    "\n",
    "参数说明：\n",
    "\n",
    "- data：一组数据(ndarray 类型)。\n",
    "\n",
    "- index：数据索引标签，如果不指定，默认从 0 开始。\n",
    "\n",
    "- dtype：数据类型，默认会自己判断。\n",
    "\n",
    "- name：设置名称。\n",
    "\n",
    "- copy：拷贝数据，默认为 False。\n",
    "\n",
    "创建一个简单的 Series 实例："
   ]
  },
  {
   "cell_type": "code",
   "execution_count": null,
   "metadata": {},
   "outputs": [],
   "source": [
    "import pandas as pd\n",
    "\n",
    "a = [1, 2, 3]\n",
    "\n",
    "myvar = pd.Series(a)\n",
    "\n",
    "print(myvar)"
   ]
  },
  {
   "cell_type": "markdown",
   "metadata": {},
   "source": [
    "输出结果如下：\n",
    "\n",
    "```\n",
    "0    1\n",
    "1    2\n",
    "2    3\n",
    "dtype: int64\n",
    "```\n",
    "\n",
    "从上图可知，如果没有指定索引，索引值就从 0 开始，我们可以根据索引值读取数据："
   ]
  },
  {
   "cell_type": "code",
   "execution_count": null,
   "metadata": {},
   "outputs": [],
   "source": [
    "import pandas as pd\n",
    "\n",
    "a = [1, 2, 3]\n",
    "\n",
    "myvar = pd.Series(a)\n",
    "\n",
    "print(myvar[1])"
   ]
  },
  {
   "cell_type": "markdown",
   "metadata": {},
   "source": [
    "输出结果如下：\n",
    "\n",
    "```\n",
    "2\n",
    "```\n",
    "\n",
    "我们可以指定索引值，如下实例："
   ]
  },
  {
   "cell_type": "code",
   "execution_count": null,
   "metadata": {},
   "outputs": [],
   "source": [
    "import pandas as pd\n",
    "\n",
    "a = [\"Google\", \"Runoob\", \"Wiki\"]\n",
    "\n",
    "myvar = pd.Series(a, index = [\"x\", \"y\", \"z\"])\n",
    "\n",
    "print(myvar)"
   ]
  },
  {
   "cell_type": "markdown",
   "metadata": {},
   "source": [
    "输出结果如下：\n",
    "\n",
    "```\n",
    "x    Google\n",
    "y    Runoob\n",
    "z      Wiki\n",
    "dtype: object\n",
    "```\n",
    "\n",
    "根据索引值读取数据:"
   ]
  },
  {
   "cell_type": "code",
   "execution_count": null,
   "metadata": {},
   "outputs": [],
   "source": [
    "import pandas as pd\n",
    "\n",
    "a = [\"Google\", \"Runoob\", \"Wiki\"]\n",
    "\n",
    "myvar = pd.Series(a, index = [\"x\", \"y\", \"z\"])\n",
    "\n",
    "print(myvar[\"y\"])"
   ]
  },
  {
   "cell_type": "markdown",
   "metadata": {},
   "source": [
    "输出结果如下：\n",
    "\n",
    "```\n",
    "Runoob\n",
    "```\n",
    "我们也可以使用 key/value 对象，类似字典来创建 Series："
   ]
  },
  {
   "cell_type": "code",
   "execution_count": null,
   "metadata": {},
   "outputs": [],
   "source": [
    "import pandas as pd\n",
    "\n",
    "sites = {1: \"Google\", 2: \"Runoob\", 3: \"Wiki\"}\n",
    "\n",
    "myvar = pd.Series(sites)\n",
    "\n",
    "print(myvar)"
   ]
  },
  {
   "cell_type": "markdown",
   "metadata": {},
   "source": [
    "输出结果如下：\n",
    "\n",
    "```\n",
    "1    Google\n",
    "2    Runoob\n",
    "3      Wiki\n",
    "dtype: object\n",
    "```\n",
    "\n",
    "从上图可知，字典的 key 变成了索引值。\n",
    "\n",
    "如果我们只需要字典中的一部分数据，只需要指定需要数据的索引即可，如下实例："
   ]
  },
  {
   "cell_type": "code",
   "execution_count": null,
   "metadata": {},
   "outputs": [],
   "source": [
    "import pandas as pd\n",
    "\n",
    "sites = {1: \"Google\", 2: \"Runoob\", 3: \"Wiki\"}\n",
    "\n",
    "myvar = pd.Series(sites, index = [1, 2])\n",
    "\n",
    "print(myvar)"
   ]
  },
  {
   "cell_type": "markdown",
   "metadata": {},
   "source": [
    "输出结果如下：\n",
    "\n",
    "```\n",
    "1    Google\n",
    "2    Runoob\n",
    "dtype: object\n",
    "```\n",
    "\n",
    "设置 Series 名称参数："
   ]
  },
  {
   "cell_type": "code",
   "execution_count": null,
   "metadata": {},
   "outputs": [],
   "source": [
    "import pandas as pd\n",
    "\n",
    "sites = {1: \"Google\", 2: \"Runoob\", 3: \"Wiki\"}\n",
    "\n",
    "myvar = pd.Series(sites, index = [1, 2], name=\"RUNOOB-Series-TEST\" )\n",
    "\n",
    "print(myvar)"
   ]
  },
  {
   "cell_type": "markdown",
   "metadata": {},
   "source": [
    "```\n",
    "1    Google\n",
    "2    Runoob\n",
    "Name: RUNOOB-Series-TEST, dtype: object\n",
    "```"
   ]
  }
 ],
 "metadata": {
  "kernelspec": {
   "display_name": "python-pandas",
   "language": "python",
   "name": "python3"
  },
  "language_info": {
   "codemirror_mode": {
    "name": "ipython",
    "version": 3
   },
   "file_extension": ".py",
   "mimetype": "text/x-python",
   "name": "python",
   "nbconvert_exporter": "python",
   "pygments_lexer": "ipython3",
   "version": "3.11.4"
  },
  "orig_nbformat": 4
 },
 "nbformat": 4,
 "nbformat_minor": 2
}
